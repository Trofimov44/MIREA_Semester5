{
 "cells": [
  {
   "cell_type": "markdown",
   "id": "a99e84b0",
   "metadata": {},
   "source": [
    "# Практика 1 (Обучение по правилам Хебба)"
   ]
  },
  {
   "cell_type": "code",
   "execution_count": 1,
   "id": "a88e282d",
   "metadata": {},
   "outputs": [],
   "source": [
    "import pandas as pd"
   ]
  },
  {
   "cell_type": "code",
   "execution_count": 3,
   "id": "245bee02",
   "metadata": {},
   "outputs": [
    {
     "data": {
      "text/html": [
       "<div>\n",
       "<style scoped>\n",
       "    .dataframe tbody tr th:only-of-type {\n",
       "        vertical-align: middle;\n",
       "    }\n",
       "\n",
       "    .dataframe tbody tr th {\n",
       "        vertical-align: top;\n",
       "    }\n",
       "\n",
       "    .dataframe thead th {\n",
       "        text-align: right;\n",
       "    }\n",
       "</style>\n",
       "<table border=\"1\" class=\"dataframe\">\n",
       "  <thead>\n",
       "    <tr style=\"text-align: right;\">\n",
       "      <th></th>\n",
       "      <th>X1</th>\n",
       "      <th>X2</th>\n",
       "      <th>Y</th>\n",
       "    </tr>\n",
       "  </thead>\n",
       "  <tbody>\n",
       "    <tr>\n",
       "      <th>0</th>\n",
       "      <td>1</td>\n",
       "      <td>1</td>\n",
       "      <td>1</td>\n",
       "    </tr>\n",
       "    <tr>\n",
       "      <th>1</th>\n",
       "      <td>1</td>\n",
       "      <td>-1</td>\n",
       "      <td>-1</td>\n",
       "    </tr>\n",
       "    <tr>\n",
       "      <th>2</th>\n",
       "      <td>-1</td>\n",
       "      <td>1</td>\n",
       "      <td>-1</td>\n",
       "    </tr>\n",
       "    <tr>\n",
       "      <th>3</th>\n",
       "      <td>-1</td>\n",
       "      <td>-1</td>\n",
       "      <td>-1</td>\n",
       "    </tr>\n",
       "  </tbody>\n",
       "</table>\n",
       "</div>"
      ],
      "text/plain": [
       "   X1  X2  Y\n",
       "0   1   1  1\n",
       "1   1  -1 -1\n",
       "2  -1   1 -1\n",
       "3  -1  -1 -1"
      ]
     },
     "execution_count": 3,
     "metadata": {},
     "output_type": "execute_result"
    }
   ],
   "source": [
    "data = {\"X1\": [1, 1, -1,-1],\n",
    "        \"X2\": [1, -1, 1,-1],\n",
    "        \"Y\": [1, -1, -1, -1]}\n",
    "\n",
    "df = pd.DataFrame(data)\n",
    "df"
   ]
  },
  {
   "cell_type": "code",
   "execution_count": 4,
   "id": "defce81e",
   "metadata": {},
   "outputs": [],
   "source": [
    "w11 = 0\n",
    "w21 = 0\n",
    "T = 0 "
   ]
  },
  {
   "cell_type": "code",
   "execution_count": 5,
   "id": "5260677d",
   "metadata": {},
   "outputs": [],
   "source": [
    "def Hebb(x1, x2, w11, w21, T, y):\n",
    "    w11 = w11 + x1*y\n",
    "    w21 = w21 + x2*y\n",
    "    T = T - y\n",
    "    return w11, w21, T"
   ]
  },
  {
   "cell_type": "code",
   "execution_count": 7,
   "id": "4c777305",
   "metadata": {},
   "outputs": [
    {
     "name": "stdout",
     "output_type": "stream",
     "text": [
      "[1, 1, 1]\n",
      "[1, -1, -1]\n",
      "[-1, 1, -1]\n",
      "[-1, -1, -1]\n"
     ]
    }
   ],
   "source": [
    "for i in range(df.shape[0]):\n",
    "    X12 = df.iloc[i, :].to_list()\n",
    "    print(X12)\n",
    "    w11, w21, T = Hebb(X12[0], X12[1], w11, w21, T, df['Y'][i])"
   ]
  },
  {
   "cell_type": "code",
   "execution_count": 8,
   "id": "23c8f68c",
   "metadata": {},
   "outputs": [],
   "source": [
    "def predict(x1, x2, w11, w21):\n",
    "    return (x1*w11 + x2*w21 - T) > 0 "
   ]
  },
  {
   "cell_type": "code",
   "execution_count": 14,
   "id": "3b869209",
   "metadata": {},
   "outputs": [
    {
     "name": "stdout",
     "output_type": "stream",
     "text": [
      "False\n"
     ]
    }
   ],
   "source": [
    "print(predict(1, -1, w11, w21))"
   ]
  },
  {
   "cell_type": "code",
   "execution_count": 12,
   "id": "6b66d063",
   "metadata": {},
   "outputs": [
    {
     "name": "stdout",
     "output_type": "stream",
     "text": [
      "2 2 2\n"
     ]
    }
   ],
   "source": [
    "print(w11, w21, T)"
   ]
  },
  {
   "cell_type": "code",
   "execution_count": 16,
   "id": "6fefafbc",
   "metadata": {},
   "outputs": [
    {
     "name": "stdout",
     "output_type": "stream",
     "text": [
      "1 1: True\n",
      "1 -1: False\n",
      "-1 1: False\n",
      "-1 -1: False\n"
     ]
    }
   ],
   "source": [
    "for i in range(df.shape[0]):\n",
    "    X12 = df.iloc[i, :].to_list()\n",
    "    print(f'{X12[0]} {X12[1]}: {predict(X12[0], X12[1], w11, w21)}')"
   ]
  }
 ],
 "metadata": {
  "kernelspec": {
   "display_name": ".venv",
   "language": "python",
   "name": "python3"
  },
  "language_info": {
   "codemirror_mode": {
    "name": "ipython",
    "version": 3
   },
   "file_extension": ".py",
   "mimetype": "text/x-python",
   "name": "python",
   "nbconvert_exporter": "python",
   "pygments_lexer": "ipython3",
   "version": "3.11.2"
  }
 },
 "nbformat": 4,
 "nbformat_minor": 5
}
