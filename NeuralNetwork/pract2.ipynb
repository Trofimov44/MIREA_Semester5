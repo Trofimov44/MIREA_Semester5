{
 "cells": [
  {
   "cell_type": "markdown",
   "id": "1b759df5",
   "metadata": {},
   "source": [
    "# Практика 2 (дельта-правило)"
   ]
  },
  {
   "cell_type": "code",
   "execution_count": 75,
   "id": "f1e158dc",
   "metadata": {},
   "outputs": [],
   "source": [
    "import pandas as pd"
   ]
  },
  {
   "cell_type": "code",
   "execution_count": 76,
   "id": "1639706a",
   "metadata": {},
   "outputs": [
    {
     "name": "stdout",
     "output_type": "stream",
     "text": [
      "   X1  X2  Y\n",
      "0   1   1  1\n",
      "1   1  -1 -1\n",
      "2  -1   1 -1\n",
      "3  -1  -1 -1\n"
     ]
    }
   ],
   "source": [
    "data = {\"X1\": [1, 1, -1,-1],\n",
    "        \"X2\": [1, -1, 1,-1],\n",
    "        \"Y\": [1, -1, -1, -1]}\n",
    "\n",
    "df = pd.DataFrame(data)\n",
    "print(df)"
   ]
  },
  {
   "cell_type": "code",
   "execution_count": 77,
   "id": "bec91483",
   "metadata": {},
   "outputs": [],
   "source": [
    "w11 = 0\n",
    "w21 = 0\n",
    "T = 0"
   ]
  },
  {
   "cell_type": "code",
   "execution_count": 78,
   "id": "ce9403a5",
   "metadata": {},
   "outputs": [],
   "source": [
    "def delta_rule(x1, x2, y, w11, w21, T):\n",
    "    NET = x1*w11 + x2*w21 - T\n",
    "    if NET > 0:\n",
    "        y0 = 1\n",
    "    else:   \n",
    "        y0 = -1\n",
    "\n",
    "    if y0 == y:\n",
    "        return w11, w21, T\n",
    "    \n",
    "    w11 = w11 + 1*(y - y0) * x1\n",
    "    w21 = w21 + 1*(y - y0) * x2\n",
    "    T = T + 1*(y - y0) * (-1)\n",
    "    return w11, w21, T\n"
   ]
  },
  {
   "cell_type": "code",
   "execution_count": 79,
   "id": "0c8ae46f",
   "metadata": {},
   "outputs": [],
   "source": [
    "for i in range(df.shape[0]):\n",
    "    w11, w21, T = delta_rule(df['X1'][i], df['X2'][i], df['Y'][i], w11, w21, T)"
   ]
  },
  {
   "cell_type": "code",
   "execution_count": 80,
   "id": "2dc13515",
   "metadata": {},
   "outputs": [
    {
     "name": "stdout",
     "output_type": "stream",
     "text": [
      "2 2 2\n"
     ]
    }
   ],
   "source": [
    "print(w11, w21, T)"
   ]
  },
  {
   "cell_type": "code",
   "execution_count": 81,
   "id": "b5ea069c",
   "metadata": {},
   "outputs": [],
   "source": [
    "def predict(x1, x2, w11, w21, T):\n",
    "    return (x1*w11 + x2*w21 - T) > 0 "
   ]
  },
  {
   "cell_type": "code",
   "execution_count": 82,
   "id": "c5934128",
   "metadata": {},
   "outputs": [
    {
     "name": "stdout",
     "output_type": "stream",
     "text": [
      "1 1: True\n",
      "1 -1: False\n",
      "-1 1: False\n",
      "-1 -1: False\n"
     ]
    }
   ],
   "source": [
    "for i in range(df.shape[0]):\n",
    "    X12 = df.iloc[i, :].to_list()\n",
    "    print(f'{X12[0]} {X12[1]}: {predict(X12[0], X12[1], w11, w21, T)}')"
   ]
  }
 ],
 "metadata": {
  "kernelspec": {
   "display_name": ".venv",
   "language": "python",
   "name": "python3"
  },
  "language_info": {
   "codemirror_mode": {
    "name": "ipython",
    "version": 3
   },
   "file_extension": ".py",
   "mimetype": "text/x-python",
   "name": "python",
   "nbconvert_exporter": "python",
   "pygments_lexer": "ipython3",
   "version": "3.11.2"
  }
 },
 "nbformat": 4,
 "nbformat_minor": 5
}
