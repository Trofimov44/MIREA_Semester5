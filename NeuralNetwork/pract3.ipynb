{
 "cells": [
  {
   "cell_type": "markdown",
   "id": "3c97c44f",
   "metadata": {},
   "source": [
    "# Практика 3 (Обратное распространение ошибки)"
   ]
  },
  {
   "cell_type": "code",
   "execution_count": 52,
   "id": "a99b78aa",
   "metadata": {},
   "outputs": [],
   "source": [
    "import pandas as pd\n",
    "import numpy as np\n",
    "import math"
   ]
  },
  {
   "cell_type": "code",
   "execution_count": 53,
   "id": "6834c5a9",
   "metadata": {},
   "outputs": [],
   "source": [
    "def sigmoid(x):\n",
    "    return 1.0 / (1.0 + np.exp(-x))"
   ]
  },
  {
   "cell_type": "code",
   "execution_count": 54,
   "id": "ea32ac3f",
   "metadata": {},
   "outputs": [
    {
     "name": "stdout",
     "output_type": "stream",
     "text": [
      "[0 1]\n"
     ]
    }
   ],
   "source": [
    "Y = 1\n",
    "X = np.array([0, 1])\n",
    "print(X)"
   ]
  },
  {
   "cell_type": "code",
   "execution_count": 55,
   "id": "010e1444",
   "metadata": {},
   "outputs": [
    {
     "name": "stdout",
     "output_type": "stream",
     "text": [
      "[[ 1.  -1. ]\n",
      " [ 0.5  2. ]]\n",
      "[1. 1.] \n",
      "\n",
      "[[ 1.5]\n",
      " [-1. ]]\n",
      "[[1.]]\n"
     ]
    }
   ],
   "source": [
    "#np.random.seed(42)\n",
    "\n",
    "'''\n",
    "W_hidden = np.random.randn(2, 2)\n",
    "b_hidden = np.random.randn(1, 2)\n",
    "'''\n",
    "'''\n",
    "W_output = np.random.randn(2, 1)\n",
    "b_output = np.random.randn(1, 1)\n",
    "'''\n",
    "\n",
    "W_hidden = np.array([[1, -1], [0.5, 2]])\n",
    "b_hidden = np.array([1., 1.])\n",
    "\n",
    "W_output = np.array([[1.5], [-1]])\n",
    "b_output = np.array([[1.]])\n",
    "\n",
    "print(W_hidden)\n",
    "print(b_hidden,'\\n')\n",
    "\n",
    "print(W_output)\n",
    "print(b_output)"
   ]
  },
  {
   "cell_type": "code",
   "execution_count": 56,
   "id": "ce723e0c",
   "metadata": {},
   "outputs": [
    {
     "name": "stdout",
     "output_type": "stream",
     "text": [
      "[0.81757448 0.95257413]\n"
     ]
    }
   ],
   "source": [
    "hidden = sigmoid(X @ W_hidden + b_hidden)\n",
    "print(hidden)"
   ]
  },
  {
   "cell_type": "code",
   "execution_count": 57,
   "id": "30d6acce",
   "metadata": {},
   "outputs": [
    {
     "name": "stdout",
     "output_type": "stream",
     "text": [
      "0.7813904309473313\n"
     ]
    }
   ],
   "source": [
    "output = sigmoid(hidden @ W_output + b_output)[0][0]\n",
    "print(output)"
   ]
  },
  {
   "cell_type": "code",
   "execution_count": 58,
   "id": "623312c3",
   "metadata": {},
   "outputs": [
    {
     "data": {
      "text/plain": [
       "np.float64(0.023895071840696763)"
      ]
     },
     "execution_count": 58,
     "metadata": {},
     "output_type": "execute_result"
    }
   ],
   "source": [
    "E = 0.5 * (Y - output)**2\n",
    "E"
   ]
  },
  {
   "cell_type": "code",
   "execution_count": 59,
   "id": "a321a1b9",
   "metadata": {},
   "outputs": [
    {
     "name": "stdout",
     "output_type": "stream",
     "text": [
      "0.037342760966238966\n",
      "0.008354310462937586\n",
      "-0.0016870212055845604\n"
     ]
    }
   ],
   "source": [
    "g5 = output*(1 - output)*(Y - output)\n",
    "print(g5)\n",
    "\n",
    "g3 = hidden[0]*(1 - hidden[0])*(W_output[0]*g5)[0]\n",
    "print(g3)\n",
    "\n",
    "g4 = hidden[1]*(1 - hidden[1])*(W_output[1]*g5)[0]\n",
    "print(g4)"
   ]
  },
  {
   "cell_type": "code",
   "execution_count": 60,
   "id": "884a0319",
   "metadata": {},
   "outputs": [
    {
     "data": {
      "text/plain": [
       "array([-0.98221413])"
      ]
     },
     "execution_count": 60,
     "metadata": {},
     "output_type": "execute_result"
    }
   ],
   "source": [
    "W_output[1] = W_output[1] + (0.5*g5*hidden[1])\n",
    "W_output[1]"
   ]
  },
  {
   "cell_type": "code",
   "execution_count": 61,
   "id": "ba422a22",
   "metadata": {},
   "outputs": [
    {
     "data": {
      "text/plain": [
       "array([1.51526524])"
      ]
     },
     "execution_count": 61,
     "metadata": {},
     "output_type": "execute_result"
    }
   ],
   "source": [
    "W_output[0] = W_output[0] + (0.5*g5*hidden[0])\n",
    "W_output[0]"
   ]
  },
  {
   "cell_type": "code",
   "execution_count": 62,
   "id": "5b4be2df",
   "metadata": {},
   "outputs": [
    {
     "name": "stdout",
     "output_type": "stream",
     "text": [
      "1.0186713804831196\n"
     ]
    }
   ],
   "source": [
    "print(1 + (0.5*g5*Y))"
   ]
  },
  {
   "cell_type": "code",
   "execution_count": 63,
   "id": "04357407",
   "metadata": {},
   "outputs": [
    {
     "data": {
      "text/plain": [
       "np.float64(1.0186713804831196)"
      ]
     },
     "execution_count": 63,
     "metadata": {},
     "output_type": "execute_result"
    }
   ],
   "source": [
    "b_output[0][0] = b_output[0][0] + (0.5*g5*Y)\n",
    "b_output[0][0]"
   ]
  },
  {
   "cell_type": "code",
   "execution_count": 64,
   "id": "43c32c95",
   "metadata": {},
   "outputs": [
    {
     "name": "stdout",
     "output_type": "stream",
     "text": [
      "1.9991564893972078\n",
      "-1.0\n",
      "0.5041771552314688\n",
      "1.0\n"
     ]
    }
   ],
   "source": [
    "W_hidden[1][1] = W_hidden[1][1] + (0.5*g4*X[1]) \n",
    "print(W_hidden[1][1])\n",
    "\n",
    "W_hidden[0][1] = W_hidden[0][1] + (0.5*g4*X[0])\n",
    "print(W_hidden[0][1])\n",
    "\n",
    "W_hidden[1][0] = W_hidden[1][0] + (0.5*g3*X[1])\n",
    "print(W_hidden[1][0])   \n",
    "\n",
    "W_hidden[0][0] + W_hidden[0][0] + (0.5*g3*X[0])\n",
    "print(W_hidden[0][0])"
   ]
  },
  {
   "cell_type": "code",
   "execution_count": 65,
   "id": "79713e3a",
   "metadata": {},
   "outputs": [
    {
     "name": "stdout",
     "output_type": "stream",
     "text": [
      "0.9991564893972077\n",
      "1.0041771552314689\n"
     ]
    }
   ],
   "source": [
    "b_hidden[0] = b_hidden[0] + (0.5*g4*1)\n",
    "print(b_hidden[0])\n",
    "\n",
    "b_hidden[1] = b_hidden[1] + (0.5*g3*1)\n",
    "print(b_hidden[1])"
   ]
  },
  {
   "cell_type": "code",
   "execution_count": 66,
   "id": "c1926be1",
   "metadata": {},
   "outputs": [
    {
     "name": "stdout",
     "output_type": "stream",
     "text": [
      "[0.81807115 0.9527245 ]\n"
     ]
    }
   ],
   "source": [
    "hidden = sigmoid(X @ W_hidden + b_hidden)\n",
    "print(hidden)"
   ]
  },
  {
   "cell_type": "code",
   "execution_count": 67,
   "id": "a59794c9",
   "metadata": {},
   "outputs": [
    {
     "name": "stdout",
     "output_type": "stream",
     "text": [
      "0.789595130803499\n"
     ]
    }
   ],
   "source": [
    "output = sigmoid(hidden @ W_output + b_output)[0][0]\n",
    "print(output)"
   ]
  },
  {
   "cell_type": "code",
   "execution_count": 68,
   "id": "66dc0555",
   "metadata": {},
   "outputs": [
    {
     "data": {
      "text/plain": [
       "np.float64(0.022135104490798356)"
      ]
     },
     "execution_count": 68,
     "metadata": {},
     "output_type": "execute_result"
    }
   ],
   "source": [
    "E_last = E\n",
    "E = 0.5 * (Y - output)**2\n",
    "E"
   ]
  },
  {
   "cell_type": "code",
   "execution_count": 69,
   "id": "3993e74b",
   "metadata": {},
   "outputs": [
    {
     "data": {
      "text/plain": [
       "np.float64(0.0017599673498984066)"
      ]
     },
     "execution_count": 69,
     "metadata": {},
     "output_type": "execute_result"
    }
   ],
   "source": [
    "E_last - E"
   ]
  },
  {
   "cell_type": "code",
   "execution_count": 70,
   "id": "f9a974c0",
   "metadata": {},
   "outputs": [
    {
     "name": "stdout",
     "output_type": "stream",
     "text": [
      "[[ 1.         -1.        ]\n",
      " [ 0.50417716  1.99915649]]\n",
      "[0.99915649 1.00417716] \n",
      "\n",
      "[[ 1.51526524]\n",
      " [-0.98221413]]\n",
      "[[1.01867138]]\n"
     ]
    }
   ],
   "source": [
    "print(W_hidden)\n",
    "print(b_hidden,'\\n')\n",
    "\n",
    "print(W_output)\n",
    "print(b_output)"
   ]
  },
  {
   "cell_type": "code",
   "execution_count": 71,
   "id": "e2c022a5",
   "metadata": {},
   "outputs": [],
   "source": [
    "def predict(x1, x2):\n",
    "    Y = sigmoid(hidden @ W_output + b_output)[0][0]\n",
    "    return Y"
   ]
  },
  {
   "cell_type": "code",
   "execution_count": 72,
   "id": "64d63fa0",
   "metadata": {},
   "outputs": [
    {
     "data": {
      "text/plain": [
       "np.float64(0.789595130803499)"
      ]
     },
     "execution_count": 72,
     "metadata": {},
     "output_type": "execute_result"
    }
   ],
   "source": [
    "predict(0, 1)"
   ]
  }
 ],
 "metadata": {
  "kernelspec": {
   "display_name": ".venv",
   "language": "python",
   "name": "python3"
  },
  "language_info": {
   "codemirror_mode": {
    "name": "ipython",
    "version": 3
   },
   "file_extension": ".py",
   "mimetype": "text/x-python",
   "name": "python",
   "nbconvert_exporter": "python",
   "pygments_lexer": "ipython3",
   "version": "3.11.2"
  }
 },
 "nbformat": 4,
 "nbformat_minor": 5
}
