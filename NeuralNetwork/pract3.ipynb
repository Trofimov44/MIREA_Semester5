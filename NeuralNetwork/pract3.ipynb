{
 "cells": [
  {
   "cell_type": "markdown",
   "id": "3c97c44f",
   "metadata": {},
   "source": [
    "# Практика 3"
   ]
  },
  {
   "cell_type": "code",
   "execution_count": null,
   "id": "a99b78aa",
   "metadata": {},
   "outputs": [],
   "source": [
    "import pandas as pd\n",
    "import numpy as np\n",
    "import math"
   ]
  },
  {
   "cell_type": "code",
   "execution_count": 3,
   "id": "0858c5e1",
   "metadata": {},
   "outputs": [
    {
     "name": "stdout",
     "output_type": "stream",
     "text": [
      "   X1  X2  Y\n",
      "0   1   1  1\n",
      "1   1   0  0\n",
      "2   0   1  0\n",
      "3   0   0  0\n"
     ]
    }
   ],
   "source": [
    "data = {\"X1\": [1, 1, 0,0],\n",
    "        \"X2\": [1, 0, 1,0],\n",
    "        \"Y\": [1, 0, 0, 0]}\n",
    "\n",
    "df = pd.DataFrame(data)\n",
    "print(df)"
   ]
  },
  {
   "cell_type": "code",
   "execution_count": 4,
   "id": "f21aa107",
   "metadata": {},
   "outputs": [],
   "source": [
    "U1 = df[\"X1\"]\n",
    "U2 = df[\"X2\"]"
   ]
  },
  {
   "cell_type": "code",
   "execution_count": 6,
   "id": "6834c5a9",
   "metadata": {},
   "outputs": [],
   "source": [
    "def sigmoid(x):\n",
    "    return 1.0 / (1.0 + np.exp(-x))"
   ]
  },
  {
   "cell_type": "code",
   "execution_count": null,
   "id": "10a0cbc2",
   "metadata": {},
   "outputs": [
    {
     "ename": "SyntaxError",
     "evalue": "incomplete input (721642834.py, line 2)",
     "output_type": "error",
     "traceback": [
      "  \u001b[36mCell\u001b[39m\u001b[36m \u001b[39m\u001b[32mIn[5]\u001b[39m\u001b[32m, line 2\u001b[39m\n\u001b[31m    \u001b[39m\n    ^\n\u001b[31mSyntaxError\u001b[39m\u001b[31m:\u001b[39m incomplete input\n"
     ]
    }
   ],
   "source": [
    "def Backpropagation():\n",
    "    "
   ]
  }
 ],
 "metadata": {
  "kernelspec": {
   "display_name": ".venv",
   "language": "python",
   "name": "python3"
  },
  "language_info": {
   "codemirror_mode": {
    "name": "ipython",
    "version": 3
   },
   "file_extension": ".py",
   "mimetype": "text/x-python",
   "name": "python",
   "nbconvert_exporter": "python",
   "pygments_lexer": "ipython3",
   "version": "3.11.2"
  }
 },
 "nbformat": 4,
 "nbformat_minor": 5
}
