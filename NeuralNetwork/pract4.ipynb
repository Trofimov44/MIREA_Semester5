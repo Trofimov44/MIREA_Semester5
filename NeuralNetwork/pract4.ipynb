{
 "cells": [
  {
   "cell_type": "markdown",
   "id": "0026f4c2",
   "metadata": {},
   "source": [
    "# Практика 4 (радиально-базисные нейронные сети)"
   ]
  },
  {
   "cell_type": "code",
   "execution_count": 438,
   "id": "d054dc49",
   "metadata": {},
   "outputs": [],
   "source": [
    "import torch\n",
    "import math"
   ]
  },
  {
   "cell_type": "code",
   "execution_count": 439,
   "id": "5a856d9c",
   "metadata": {},
   "outputs": [],
   "source": [
    "X = torch.tensor([0.9, 2.1, 3.1])   \n",
    "Y = torch.tensor([1.0, 1.9, 3.0])"
   ]
  },
  {
   "cell_type": "code",
   "execution_count": 440,
   "id": "4fc4348b",
   "metadata": {},
   "outputs": [
    {
     "data": {
      "text/plain": [
       "'\\nX = torch.tensor([])\\nY = torch.tensor([])\\nfor i in range(200):\\n    X = torch.cat([X, torch.tensor([i])])\\n    Y = torch.cat([Y, torch.tensor([i*2])])\\n\\nprint(X.shape)\\nprint(Y.shape)'"
      ]
     },
     "execution_count": 440,
     "metadata": {},
     "output_type": "execute_result"
    }
   ],
   "source": [
    "'''\n",
    "X = torch.tensor([])\n",
    "Y = torch.tensor([])\n",
    "for i in range(200):\n",
    "    X = torch.cat([X, torch.tensor([i])])\n",
    "    Y = torch.cat([Y, torch.tensor([i*2])])\n",
    "\n",
    "print(X.shape)\n",
    "print(Y.shape)'''"
   ]
  },
  {
   "cell_type": "code",
   "execution_count": 441,
   "id": "30181149",
   "metadata": {},
   "outputs": [
    {
     "name": "stdout",
     "output_type": "stream",
     "text": [
      "tensor([0.9000, 2.1000, 3.1000])\n",
      "tensor([1.0000, 1.9000, 3.0000])\n"
     ]
    }
   ],
   "source": [
    "print(X)\n",
    "print(Y)"
   ]
  },
  {
   "cell_type": "code",
   "execution_count": 442,
   "id": "c614287b",
   "metadata": {},
   "outputs": [],
   "source": [
    "#выходы радиально-базисных нейронов\n",
    "def h_i(x, c):\n",
    "    return math.exp(-(x - c)**2)\n"
   ]
  },
  {
   "cell_type": "code",
   "execution_count": 443,
   "id": "1d55a2d4",
   "metadata": {},
   "outputs": [],
   "source": [
    "def radial_basis_nn(x, y):\n",
    "    #Рассчёт центров функции активации:\n",
    "    C_i = torch.tensor([])\n",
    "    for i in range(x.shape[0] - 1):\n",
    "        C_i = torch.cat([C_i, torch.tensor([(x[i] + x[i+1])/2])])\n",
    "    print(f\"Центры функции активации: {C_i}\", \"\\n\")\n",
    "\n",
    "\n",
    "    #ребуется найти неизвестные коэффициенты 𝑤i:\n",
    "    F = torch.zeros(x.shape[0], x.shape[0] - 1)\n",
    "    for i in range(F.shape[0]):\n",
    "        for j in range(F[i].shape[0]):\n",
    "            F[i][j] = h_i(x[i], C_i[j])\n",
    "    print(\"Матрица F, элементов h_i(x_i):\")\n",
    "    print(F, \"\\n\")\n",
    "\n",
    "\n",
    "    print(\"Транспонированная матрица F:\")\n",
    "    F_T = F.T\n",
    "    print(F_T, \"\\n\")\n",
    "\n",
    "    print(\"Умнажаем строку на столбец:\")\n",
    "    F_FT = F_T @ F\n",
    "    print(F_FT)\n",
    "\n",
    "    print(\"Обратная матрица:\")\n",
    "    FFT_inv = torch.linalg.inv(F_FT)\n",
    "    print(FFT_inv, \"\\n\")\n",
    "\n",
    "    print(\"Ответ:\")\n",
    "    W = (FFT_inv @ F_T) @ y.T\n",
    "    print(W)\n",
    "    return(W, C_i)"
   ]
  },
  {
   "cell_type": "code",
   "execution_count": 444,
   "id": "857619d0",
   "metadata": {},
   "outputs": [
    {
     "name": "stdout",
     "output_type": "stream",
     "text": [
      "Центры функции активации: tensor([1.5000, 2.6000]) \n",
      "\n",
      "Матрица F, элементов h_i(x_i):\n",
      "tensor([[0.6977, 0.0556],\n",
      "        [0.6977, 0.7788],\n",
      "        [0.0773, 0.7788]]) \n",
      "\n",
      "Транспонированная матрица F:\n",
      "tensor([[0.6977, 0.6977, 0.0773],\n",
      "        [0.0556, 0.7788, 0.7788]]) \n",
      "\n",
      "Умнажаем строку на столбец:\n",
      "tensor([[0.9795, 0.6423],\n",
      "        [0.6423, 1.2162]])\n",
      "Обратная матрица:\n",
      "tensor([[ 1.5620, -0.8250],\n",
      "        [-0.8250,  1.2580]]) \n",
      "\n",
      "Ответ:\n",
      "tensor([0.3284, 3.0101])\n"
     ]
    }
   ],
   "source": [
    "W, C = radial_basis_nn(X, Y)"
   ]
  },
  {
   "cell_type": "code",
   "execution_count": 445,
   "id": "5419e73a",
   "metadata": {},
   "outputs": [],
   "source": [
    "def predict(X, W, C):\n",
    "    F = torch.zeros(X.shape[0], C.shape[0])\n",
    "    for i in range(X.shape[0]):\n",
    "        for j in range(C.shape[0]):\n",
    "            F[i][j] = h_i(X[i], C[j])\n",
    "    print(\"Матрица признаков для предсказания:\")\n",
    "    print(F, \"\\n\")\n",
    "\n",
    "    y_pred = F @ W\n",
    "    print(\"Предсказанные значения:\")\n",
    "    print(y_pred)"
   ]
  },
  {
   "cell_type": "code",
   "execution_count": 446,
   "id": "f001ef33",
   "metadata": {},
   "outputs": [
    {
     "name": "stdout",
     "output_type": "stream",
     "text": [
      "Матрица признаков для предсказания:\n",
      "tensor([[0.6977, 0.0556],\n",
      "        [0.6977, 0.7788],\n",
      "        [0.0773, 0.7788]]) \n",
      "\n",
      "Предсказанные значения:\n",
      "tensor([0.3964, 2.5734, 2.3697])\n"
     ]
    }
   ],
   "source": [
    "predict(X, W, C)    "
   ]
  }
 ],
 "metadata": {
  "kernelspec": {
   "display_name": ".venv",
   "language": "python",
   "name": "python3"
  },
  "language_info": {
   "codemirror_mode": {
    "name": "ipython",
    "version": 3
   },
   "file_extension": ".py",
   "mimetype": "text/x-python",
   "name": "python",
   "nbconvert_exporter": "python",
   "pygments_lexer": "ipython3",
   "version": "3.11.2"
  }
 },
 "nbformat": 4,
 "nbformat_minor": 5
}
