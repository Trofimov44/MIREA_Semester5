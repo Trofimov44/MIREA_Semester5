{
 "cells": [
  {
   "cell_type": "markdown",
   "id": "0a190043",
   "metadata": {},
   "source": [
    "# Практика 5(Нейронные сети Кохонена)"
   ]
  },
  {
   "cell_type": "code",
   "execution_count": 1,
   "id": "5b20a61c",
   "metadata": {},
   "outputs": [],
   "source": [
    "import numpy as np\n",
    "import pandas as pd\n",
    "import torch"
   ]
  }
 ],
 "metadata": {
  "kernelspec": {
   "display_name": ".venv",
   "language": "python",
   "name": "python3"
  },
  "language_info": {
   "codemirror_mode": {
    "name": "ipython",
    "version": 3
   },
   "file_extension": ".py",
   "mimetype": "text/x-python",
   "name": "python",
   "nbconvert_exporter": "python",
   "pygments_lexer": "ipython3",
   "version": "3.11.2"
  }
 },
 "nbformat": 4,
 "nbformat_minor": 5
}
